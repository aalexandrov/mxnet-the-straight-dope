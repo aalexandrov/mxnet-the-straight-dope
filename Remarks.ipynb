{
 "cells": [
  {
   "cell_type": "markdown",
   "metadata": {},
   "source": [
    "This is a list of remarks of questions that can be clarified in the text."
   ]
  },
  {
   "cell_type": "markdown",
   "metadata": {},
   "source": [
    "# Manipulate data the MXNet way with `ndarray`\n",
    "\n",
    "## In-place operations\n",
    "\n",
    "From the discussion it is not clear whether the op-equals syntax `x += y` is operationally equivalent to `x[:] = x op y` or to `nd.elemwise_add(x, y, out=x)`?\n",
    "\n",
    "*Suggestion*: rewrite the last paragraph to make the relation between the different syntactic forms clearer.\n",
    "\n",
    "## Managing context\n",
    "\n",
    "It would be nice if this section demonstrates an API fragment that lists the available contexts."
   ]
  },
  {
   "cell_type": "code",
   "execution_count": 1,
   "metadata": {},
   "outputs": [],
   "source": [
    "import mxnet as ddmx"
   ]
  },
  {
   "cell_type": "code",
   "execution_count": 17,
   "metadata": {},
   "outputs": [],
   "source": [
    "def cpus(n):\n",
    "    for i in range(n):\n",
    "        try:\n",
    "            mx.nd.zeros((1,), ctx=mx.cpu(i))\n",
    "        except:\n",
    "            return i\n",
    "    return n"
   ]
  },
  {
   "cell_type": "code",
   "execution_count": 18,
   "metadata": {},
   "outputs": [
    {
     "data": {
      "text/plain": [
       "10"
      ]
     },
     "execution_count": 18,
     "metadata": {},
     "output_type": "execute_result"
    }
   ],
   "source": [
    "cpus(10)"
   ]
  },
  {
   "cell_type": "markdown",
   "metadata": {},
   "source": [
    "# Linear algebra\n",
    "\n",
    "## Element-wise operations\n",
    "\n",
    "The exposition of function lifting can be improved, the typing and the text do not align.\n",
    "\n",
    "## Sums and means\n",
    "\n",
    "Is there a difference between the two formulations in terms of performance and memory consumption?\n",
    "\n",
    "```python\n",
    "print(nd.mean(A))\n",
    "print(nd.sum(A) / A.size)\n",
    "```\n",
    "\n",
    "## Dot products\n",
    "\n",
    "Is there a difference between the `nd.dot(u, v)` and the `nd.sum(u * v)` formulation in terms of performance and memory consumption?"
   ]
  }
 ],
 "metadata": {
  "kernelspec": {
   "display_name": "Python 3",
   "language": "python",
   "name": "python3"
  },
  "language_info": {
   "codemirror_mode": {
    "name": "ipython",
    "version": 3
   },
   "file_extension": ".py",
   "mimetype": "text/x-python",
   "name": "python",
   "nbconvert_exporter": "python",
   "pygments_lexer": "ipython3",
   "version": "3.5.0"
  }
 },
 "nbformat": 4,
 "nbformat_minor": 2
}
